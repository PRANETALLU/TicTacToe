{
 "cells": [
  {
   "cell_type": "code",
   "execution_count": 83,
   "id": "ed464052",
   "metadata": {},
   "outputs": [],
   "source": [
    "import numpy as np\n",
    "from sklearn.svm import SVC\n",
    "from sklearn.neighbors import KNeighborsClassifier\n",
    "from sklearn.neural_network import MLPClassifier\n",
    "from sklearn.model_selection import train_test_split, KFold, cross_val_predict\n",
    "from sklearn.metrics import accuracy_score, confusion_matrix\n",
    "from sklearn.neighbors import KNeighborsRegressor\n",
    "from sklearn.neural_network import MLPRegressor\n",
    "from sklearn.linear_model import LinearRegression\n",
    "from sklearn.metrics import r2_score, mean_absolute_error, mean_squared_error"
   ]
  },
  {
   "cell_type": "code",
   "execution_count": 84,
   "id": "c013adca",
   "metadata": {},
   "outputs": [],
   "source": [
    "A = np.loadtxt(\"datasets-part1/tictac_final.txt\")\n",
    "B = np.loadtxt(\"datasets-part1/tictac_single.txt\")\n",
    "C = np.loadtxt(\"datasets-part1/tictac_multi.txt\")"
   ]
  },
  {
   "cell_type": "code",
   "execution_count": 85,
   "id": "f4faa4f8",
   "metadata": {},
   "outputs": [],
   "source": [
    "X = A[:, :9]\n",
    "Y = A[:, 9:]\n",
    "\n",
    "X1 = B[:, :9]\n",
    "Y1 = B[:, 9:]\n",
    "\n",
    "X2 = C[:, :9]\n",
    "Y2 = C[:, 9:]"
   ]
  },
  {
   "cell_type": "code",
   "execution_count": 86,
   "id": "49872c44",
   "metadata": {},
   "outputs": [],
   "source": [
    "classifiers = [SVC(kernel='linear'), KNeighborsClassifier(), MLPClassifier()]"
   ]
  },
  {
   "cell_type": "code",
   "execution_count": 87,
   "id": "052ae4ea",
   "metadata": {},
   "outputs": [],
   "source": [
    "def model_evaluation(X_t, Y_t):\n",
    "    X_train, X_test, Y_train, Y_test = train_test_split(X_t, Y_t, test_size=0.2)\n",
    "    for classifier in classifiers:\n",
    "        classifier.fit(X_train, Y_train)\n",
    "        y_predict = classifier.predict(X_test)\n",
    "        accuracyScore = accuracy_score(Y_test, y_predict)\n",
    "        confusionMatrix = confusion_matrix(Y_test, y_predict)\n",
    "        print('Classifier Name:', classifier)\n",
    "        print('Accuracy Score', accuracyScore * 100)\n",
    "        print('Confusion Matrix \\n', confusionMatrix)\n",
    "        print('')"
   ]
  },
  {
   "cell_type": "code",
   "execution_count": 88,
   "id": "b71a6b5d",
   "metadata": {},
   "outputs": [
    {
     "name": "stderr",
     "output_type": "stream",
     "text": [
      "C:\\Users\\prane\\anaconda3\\Lib\\site-packages\\sklearn\\utils\\validation.py:1184: DataConversionWarning: A column-vector y was passed when a 1d array was expected. Please change the shape of y to (n_samples, ), for example using ravel().\n",
      "  y = column_or_1d(y, warn=True)\n",
      "C:\\Users\\prane\\anaconda3\\Lib\\site-packages\\sklearn\\neighbors\\_classification.py:228: DataConversionWarning: A column-vector y was passed when a 1d array was expected. Please change the shape of y to (n_samples,), for example using ravel().\n",
      "  return self._fit(X, y)\n",
      "C:\\Users\\prane\\anaconda3\\Lib\\site-packages\\sklearn\\neural_network\\_multilayer_perceptron.py:1102: DataConversionWarning: A column-vector y was passed when a 1d array was expected. Please change the shape of y to (n_samples, ), for example using ravel().\n",
      "  y = column_or_1d(y, warn=True)\n"
     ]
    },
    {
     "name": "stdout",
     "output_type": "stream",
     "text": [
      "Classifier Name: SVC(kernel='linear')\n",
      "Accuracy Score 97.91666666666666\n",
      "Confusion Matrix \n",
      " [[ 60   4]\n",
      " [  0 128]]\n",
      "\n",
      "Classifier Name: KNeighborsClassifier()\n",
      "Accuracy Score 100.0\n",
      "Confusion Matrix \n",
      " [[ 64   0]\n",
      " [  0 128]]\n",
      "\n",
      "Classifier Name: MLPClassifier()\n",
      "Accuracy Score 97.91666666666666\n",
      "Confusion Matrix \n",
      " [[ 60   4]\n",
      " [  0 128]]\n",
      "\n"
     ]
    },
    {
     "name": "stderr",
     "output_type": "stream",
     "text": [
      "C:\\Users\\prane\\anaconda3\\Lib\\site-packages\\sklearn\\neural_network\\_multilayer_perceptron.py:691: ConvergenceWarning: Stochastic Optimizer: Maximum iterations (200) reached and the optimization hasn't converged yet.\n",
      "  warnings.warn(\n"
     ]
    }
   ],
   "source": [
    "model_evaluation(X, Y)"
   ]
  },
  {
   "cell_type": "code",
   "execution_count": 89,
   "id": "eb949568",
   "metadata": {},
   "outputs": [],
   "source": [
    "def model_evaluation_classifier(X_t, Y_t):\n",
    "    X_train, X_test, Y_train, Y_test = train_test_split(X_t, Y_t, test_size=0.2)\n",
    "    for classifier in classifiers:\n",
    "        classifier.fit(X_train, Y_train)\n",
    "        y_predict = classifier.predict(X_test)\n",
    "        accuracyScore = accuracy_score(Y_test, y_predict)\n",
    "        confusionMatrix = confusion_matrix(Y_test, y_predict)\n",
    "        print('Classifier Name:', classifier)\n",
    "        print('Accuracy Score', accuracyScore * 100)\n",
    "        print('Confusion Matrix \\n', confusionMatrix)\n",
    "        print('')"
   ]
  },
  {
   "cell_type": "code",
   "execution_count": 90,
   "id": "7986ee8c",
   "metadata": {},
   "outputs": [
    {
     "name": "stderr",
     "output_type": "stream",
     "text": [
      "C:\\Users\\prane\\anaconda3\\Lib\\site-packages\\sklearn\\utils\\validation.py:1184: DataConversionWarning: A column-vector y was passed when a 1d array was expected. Please change the shape of y to (n_samples, ), for example using ravel().\n",
      "  y = column_or_1d(y, warn=True)\n"
     ]
    },
    {
     "name": "stdout",
     "output_type": "stream",
     "text": [
      "Classifier Name: SVC(kernel='linear')\n",
      "Accuracy Score 36.15560640732266\n",
      "Confusion Matrix \n",
      " [[311   0   0   0   0   0   0   0   0]\n",
      " [ 89  24  24   0  37   0   0   0   0]\n",
      " [112   0  63   0  25   0   0   0   0]\n",
      " [ 57   8  17   1  20   0   0   0   0]\n",
      " [127   0   0   0  75   0   0   0   0]\n",
      " [ 37   6  13   0   7   0   0   0   0]\n",
      " [ 61  10  22   2  18   0   0   0   0]\n",
      " [ 27  10   9   0   6   0   0   0   0]\n",
      " [ 59   3  27   0   4   0   0   0   0]]\n",
      "\n",
      "Classifier Name: KNeighborsClassifier()\n",
      "Accuracy Score 75.43859649122807\n",
      "Confusion Matrix \n",
      " [[250   9  11   3  16   3   9   6   4]\n",
      " [ 11 133   6   1  14   3   3   0   3]\n",
      " [ 22   9 156   2   6   0   2   1   2]\n",
      " [  7   9   3  72   6   0   4   1   1]\n",
      " [ 14  12  10   3 162   0   1   0   0]\n",
      " [  5   3   6   3   2  42   1   0   1]\n",
      " [  9   6   7   3   4   2  81   0   1]\n",
      " [  3   3   1   3   3   0   1  37   1]\n",
      " [ 15   1   7   5   3   2   2   2  56]]\n",
      "\n"
     ]
    },
    {
     "name": "stderr",
     "output_type": "stream",
     "text": [
      "C:\\Users\\prane\\anaconda3\\Lib\\site-packages\\sklearn\\neighbors\\_classification.py:228: DataConversionWarning: A column-vector y was passed when a 1d array was expected. Please change the shape of y to (n_samples,), for example using ravel().\n",
      "  return self._fit(X, y)\n",
      "C:\\Users\\prane\\anaconda3\\Lib\\site-packages\\sklearn\\neural_network\\_multilayer_perceptron.py:1102: DataConversionWarning: A column-vector y was passed when a 1d array was expected. Please change the shape of y to (n_samples, ), for example using ravel().\n",
      "  y = column_or_1d(y, warn=True)\n"
     ]
    },
    {
     "name": "stdout",
     "output_type": "stream",
     "text": [
      "Classifier Name: MLPClassifier()\n",
      "Accuracy Score 86.11746758199847\n",
      "Confusion Matrix \n",
      " [[282   3   5   3   8   0   7   3   0]\n",
      " [  6 148   5   4   7   2   1   0   1]\n",
      " [  8   1 174   6   6   0   1   3   1]\n",
      " [  6   5   0  81   5   0   3   0   3]\n",
      " [  4   6   2   0 177   4   1   5   3]\n",
      " [  0   1   3   1   1  56   0   1   0]\n",
      " [  5   2   6   7   0   0  92   0   1]\n",
      " [  1   3   1   3   0   0   0  43   1]\n",
      " [ 13   0   0   3   0   1   0   0  76]]\n",
      "\n"
     ]
    },
    {
     "name": "stderr",
     "output_type": "stream",
     "text": [
      "C:\\Users\\prane\\anaconda3\\Lib\\site-packages\\sklearn\\neural_network\\_multilayer_perceptron.py:691: ConvergenceWarning: Stochastic Optimizer: Maximum iterations (200) reached and the optimization hasn't converged yet.\n",
      "  warnings.warn(\n"
     ]
    }
   ],
   "source": [
    "model_evaluation_classifier(X1, Y1)"
   ]
  },
  {
   "cell_type": "code",
   "execution_count": 91,
   "id": "0d3d392e",
   "metadata": {},
   "outputs": [],
   "source": [
    "regressors = [KNeighborsRegressor(n_neighbors=3), LinearRegression(), MLPRegressor()]"
   ]
  },
  {
   "cell_type": "code",
   "execution_count": 92,
   "id": "dd6f6a08",
   "metadata": {},
   "outputs": [],
   "source": [
    "def model_evaluation_regression(X_t, Y_t):\n",
    "    for regressor in regressors: \n",
    "        X_train, X_test, Y_train, Y_test = train_test_split(X_t, Y_t, test_size=0.2)\n",
    "        regressor.fit(X_train, Y_train)\n",
    "        y_predict = regressor.predict(X_test)\n",
    "        predClasses = np.argmax(y_predict, axis=1)\n",
    "        predTrue = np.argmax(Y_test, axis=1)\n",
    "        accuracyScore = accuracy_score(predTrue, predClasses)\n",
    "        confusionMatrix = confusion_matrix(predTrue, predClasses)\n",
    "        print('Classifier Name:', regressor)\n",
    "        print('Accuracy Score: ', accuracyScore * 100)\n",
    "        print('Confusion Matrix \\n', confusionMatrix)\n",
    "        print('')"
   ]
  },
  {
   "cell_type": "code",
   "execution_count": 93,
   "id": "e2dfcb71",
   "metadata": {},
   "outputs": [
    {
     "name": "stdout",
     "output_type": "stream",
     "text": [
      "Classifier Name: KNeighborsRegressor(n_neighbors=3)\n",
      "Accuracy Score:  73.91304347826086\n",
      "Confusion Matrix \n",
      " [[227   7  14  13  19  12  21   7  11]\n",
      " [  3 100  17   7  11   3  17   1   9]\n",
      " [  3   3 133  11  10   2   6   3   8]\n",
      " [  5   1   1  66   9   4   8   1   2]\n",
      " [  2   3   5   2 201   5   4   3  11]\n",
      " [  1   0   2   1   0  50   1   4   3]\n",
      " [  3   1   0   0   5   0  82   3   2]\n",
      " [  1   5   1   1   1   3   1  34   2]\n",
      " [  4   0   3   0   1   3   4   2  76]]\n",
      "\n",
      "Classifier Name: LinearRegression()\n",
      "Accuracy Score:  17.467581998474447\n",
      "Confusion Matrix \n",
      " [[ 17   0  30   0 254   0  27   0   3]\n",
      " [  4   0   6   0 140   0  15   0   2]\n",
      " [ 11   0  20   0 148   0  10   0  12]\n",
      " [  2   0  10   0  56   0  15   0   0]\n",
      " [ 12   0   5   0 181   0   2   0   2]\n",
      " [  3   0  12   0  57   0   4   0   8]\n",
      " [  9   0   9   0  98   0  11   0   1]\n",
      " [  4   0   3   0  21   0   2   0   0]\n",
      " [  4   0   8   0  63   0  10   0   0]]\n",
      "\n",
      "Classifier Name: MLPRegressor()\n",
      "Accuracy Score:  69.26010678871091\n",
      "Confusion Matrix \n",
      " [[185   5  21   5  30   5  20  12  15]\n",
      " [  0  75  11  12  31   9  19   4  16]\n",
      " [  1   2 142  11  20   7   7  10  18]\n",
      " [  0   0   0  60  16   3   6   7   6]\n",
      " [  0   0   0   0 160   5  10   0  10]\n",
      " [  0   0   0   1   3  59   4   4  11]\n",
      " [  0   0   1   0   2   0  98   1   5]\n",
      " [  0   0   0   1   2   0   1  40   3]\n",
      " [  3   0   0   0   4   2   0   1  89]]\n",
      "\n"
     ]
    }
   ],
   "source": [
    "model_evaluation_regression(X2, Y2)"
   ]
  },
  {
   "cell_type": "code",
   "execution_count": null,
   "id": "01473903",
   "metadata": {},
   "outputs": [],
   "source": []
  }
 ],
 "metadata": {
  "kernelspec": {
   "display_name": "Python 3",
   "language": "python",
   "name": "python3"
  },
  "language_info": {
   "codemirror_mode": {
    "name": "ipython",
    "version": 3
   },
   "file_extension": ".py",
   "mimetype": "text/x-python",
   "name": "python",
   "nbconvert_exporter": "python",
   "pygments_lexer": "ipython3",
   "version": "3.11.5"
  }
 },
 "nbformat": 4,
 "nbformat_minor": 5
}
