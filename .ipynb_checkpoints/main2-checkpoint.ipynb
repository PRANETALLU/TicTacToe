{
 "cells": [
  {
   "cell_type": "code",
   "execution_count": 1,
   "id": "ed464052",
   "metadata": {},
   "outputs": [],
   "source": [
    "import numpy as np\n",
    "from sklearn.svm import SVC\n",
    "from sklearn.neighbors import KNeighborsClassifier\n",
    "from sklearn.neural_network import MLPClassifier\n",
    "from sklearn.model_selection import train_test_split, KFold, cross_val_predict\n",
    "from sklearn.metrics import accuracy_score, confusion_matrix\n",
    "from sklearn.neighbors import KNeighborsRegressor\n",
    "from sklearn.neural_network import MLPRegressor\n",
    "from sklearn.linear_model import LinearRegression\n",
    "from sklearn.metrics import r2_score, mean_absolute_error, mean_squared_error\n",
    "\n",
    "# add the cross val accuracy using \"cross_val_score\" for classifiers and \"r2_mean\" for regressors"
   ]
  },
  {
   "cell_type": "code",
   "execution_count": 2,
   "id": "c013adca",
   "metadata": {},
   "outputs": [],
   "source": [
    "A = np.loadtxt(\"datasets-part1/tictac_final.txt\")\n",
    "B = np.loadtxt(\"datasets-part1/tictac_single.txt\")\n",
    "C = np.loadtxt(\"datasets-part1/tictac_multi.txt\")"
   ]
  },
  {
   "cell_type": "code",
   "execution_count": 3,
   "id": "f4faa4f8",
   "metadata": {},
   "outputs": [],
   "source": [
    "X = A[:, :9]\n",
    "Y = A[:, 9:]\n",
    "\n",
    "X1 = B[:, :9]\n",
    "Y1 = B[:, 9:]\n",
    "\n",
    "X2 = C[:, :9]\n",
    "Y2 = C[:, 9:]"
   ]
  },
  {
   "cell_type": "code",
   "execution_count": 4,
   "id": "49872c44",
   "metadata": {},
   "outputs": [],
   "source": [
    "classifiers = [SVC(kernel='linear'), KNeighborsClassifier(), MLPClassifier()]"
   ]
  },
  {
   "cell_type": "code",
   "execution_count": 5,
   "id": "052ae4ea",
   "metadata": {},
   "outputs": [],
   "source": [
    "def model_evaluation(X_t, Y_t):\n",
    "    X_train, X_test, Y_train, Y_test = train_test_split(X_t, Y_t, test_size=0.2)\n",
    "    for classifier in classifiers:\n",
    "        classifier.fit(X_train, Y_train)\n",
    "        y_predict = classifier.predict(X_test)\n",
    "        accuracyScore = accuracy_score(Y_test, y_predict)\n",
    "        confusionMatrix = confusion_matrix(Y_test, y_predict)\n",
    "        print('Classifier Name:', classifier)\n",
    "        print('Accuracy Score', accuracyScore * 100)\n",
    "        print('Confusion Matrix \\n', confusionMatrix)\n",
    "        print('')"
   ]
  },
  {
   "cell_type": "code",
   "execution_count": 6,
   "id": "b71a6b5d",
   "metadata": {},
   "outputs": [
    {
     "name": "stderr",
     "output_type": "stream",
     "text": [
      "C:\\Users\\prane\\anaconda3\\Lib\\site-packages\\sklearn\\utils\\validation.py:1184: DataConversionWarning: A column-vector y was passed when a 1d array was expected. Please change the shape of y to (n_samples, ), for example using ravel().\n",
      "  y = column_or_1d(y, warn=True)\n",
      "C:\\Users\\prane\\anaconda3\\Lib\\site-packages\\sklearn\\neighbors\\_classification.py:228: DataConversionWarning: A column-vector y was passed when a 1d array was expected. Please change the shape of y to (n_samples,), for example using ravel().\n",
      "  return self._fit(X, y)\n",
      "C:\\Users\\prane\\anaconda3\\Lib\\site-packages\\sklearn\\neural_network\\_multilayer_perceptron.py:1102: DataConversionWarning: A column-vector y was passed when a 1d array was expected. Please change the shape of y to (n_samples, ), for example using ravel().\n",
      "  y = column_or_1d(y, warn=True)\n"
     ]
    },
    {
     "name": "stdout",
     "output_type": "stream",
     "text": [
      "Classifier Name: SVC(kernel='linear')\n",
      "Accuracy Score 98.95833333333334\n",
      "Confusion Matrix \n",
      " [[ 62   2]\n",
      " [  0 128]]\n",
      "\n",
      "Classifier Name: KNeighborsClassifier()\n",
      "Accuracy Score 100.0\n",
      "Confusion Matrix \n",
      " [[ 64   0]\n",
      " [  0 128]]\n",
      "\n",
      "Classifier Name: MLPClassifier()\n",
      "Accuracy Score 98.95833333333334\n",
      "Confusion Matrix \n",
      " [[ 62   2]\n",
      " [  0 128]]\n",
      "\n"
     ]
    },
    {
     "name": "stderr",
     "output_type": "stream",
     "text": [
      "C:\\Users\\prane\\anaconda3\\Lib\\site-packages\\sklearn\\neural_network\\_multilayer_perceptron.py:691: ConvergenceWarning: Stochastic Optimizer: Maximum iterations (200) reached and the optimization hasn't converged yet.\n",
      "  warnings.warn(\n"
     ]
    }
   ],
   "source": [
    "model_evaluation(X, Y)"
   ]
  },
  {
   "cell_type": "code",
   "execution_count": 7,
   "id": "eb949568",
   "metadata": {},
   "outputs": [],
   "source": [
    "def model_evaluation_classifier(X_t, Y_t):\n",
    "    X_train, X_test, Y_train, Y_test = train_test_split(X_t, Y_t, test_size=0.2)\n",
    "    for classifier in classifiers:\n",
    "        classifier.fit(X_train, Y_train)\n",
    "        y_predict = classifier.predict(X_test)\n",
    "        accuracyScore = accuracy_score(Y_test, y_predict)\n",
    "        confusionMatrix = confusion_matrix(Y_test, y_predict)\n",
    "        print('Classifier Name:', classifier)\n",
    "        print('Accuracy Score', accuracyScore * 100)\n",
    "        print('Confusion Matrix \\n', confusionMatrix)\n",
    "        print('')"
   ]
  },
  {
   "cell_type": "code",
   "execution_count": 8,
   "id": "7986ee8c",
   "metadata": {},
   "outputs": [
    {
     "name": "stderr",
     "output_type": "stream",
     "text": [
      "C:\\Users\\prane\\anaconda3\\Lib\\site-packages\\sklearn\\utils\\validation.py:1184: DataConversionWarning: A column-vector y was passed when a 1d array was expected. Please change the shape of y to (n_samples, ), for example using ravel().\n",
      "  y = column_or_1d(y, warn=True)\n"
     ]
    },
    {
     "name": "stdout",
     "output_type": "stream",
     "text": [
      "Classifier Name: SVC(kernel='linear')\n",
      "Accuracy Score 38.062547673531654\n",
      "Confusion Matrix \n",
      " [[325   0   0   0   0   0   0   0   0]\n",
      " [ 74  25  28   0  32   0   0   0   0]\n",
      " [102   0  58   0  32   0   0   0   0]\n",
      " [ 59   7  14   0  18   0   0   0   0]\n",
      " [118   0   0   0  91   0   0   0   0]\n",
      " [ 41   5  17   0   6   0   0   0   0]\n",
      " [ 67   5  26   1   9   0   0   0   0]\n",
      " [ 34  10   7   0   2   0   0   0   0]\n",
      " [ 57   3  31   0   7   0   0   0   0]]\n",
      "\n",
      "Classifier Name: KNeighborsClassifier()\n",
      "Accuracy Score 74.59954233409611\n",
      "Confusion Matrix \n",
      " [[283   5   7   3  15   1   8   0   3]\n",
      " [ 11 107   8   7  12   3   4   2   5]\n",
      " [ 16   5 148   5   6   1   1   1   9]\n",
      " [  5   7   6  65   6   0   3   2   4]\n",
      " [ 20   6   9   7 157   2   3   1   4]\n",
      " [  6   6   3   3   2  49   0   0   0]\n",
      " [ 12   4   5   7   2   1  77   0   0]\n",
      " [  5   4   0   4   4   1   2  28   5]\n",
      " [ 14   1   6   4   5   4   0   0  64]]\n",
      "\n"
     ]
    },
    {
     "name": "stderr",
     "output_type": "stream",
     "text": [
      "C:\\Users\\prane\\anaconda3\\Lib\\site-packages\\sklearn\\neighbors\\_classification.py:228: DataConversionWarning: A column-vector y was passed when a 1d array was expected. Please change the shape of y to (n_samples,), for example using ravel().\n",
      "  return self._fit(X, y)\n",
      "C:\\Users\\prane\\anaconda3\\Lib\\site-packages\\sklearn\\neural_network\\_multilayer_perceptron.py:1102: DataConversionWarning: A column-vector y was passed when a 1d array was expected. Please change the shape of y to (n_samples, ), for example using ravel().\n",
      "  y = column_or_1d(y, warn=True)\n"
     ]
    },
    {
     "name": "stdout",
     "output_type": "stream",
     "text": [
      "Classifier Name: MLPClassifier()\n",
      "Accuracy Score 86.49885583524028\n",
      "Confusion Matrix \n",
      " [[287   3   6   4  13   2   5   1   4]\n",
      " [  4 133   7   4   5   4   2   0   0]\n",
      " [  5   3 172   4   6   1   0   0   1]\n",
      " [  4   3   3  77   5   1   1   1   3]\n",
      " [  4   0   4   2 190   1   5   0   3]\n",
      " [  1   2   2   2   0  59   0   3   0]\n",
      " [  8   0   2   7   1   0  85   2   3]\n",
      " [  1   1   1   0   0   2   0  46   2]\n",
      " [  4   2   1   1   2   3   0   0  85]]\n",
      "\n"
     ]
    },
    {
     "name": "stderr",
     "output_type": "stream",
     "text": [
      "C:\\Users\\prane\\anaconda3\\Lib\\site-packages\\sklearn\\neural_network\\_multilayer_perceptron.py:691: ConvergenceWarning: Stochastic Optimizer: Maximum iterations (200) reached and the optimization hasn't converged yet.\n",
      "  warnings.warn(\n"
     ]
    }
   ],
   "source": [
    "model_evaluation_classifier(X1, Y1)"
   ]
  },
  {
   "cell_type": "code",
   "execution_count": 9,
   "id": "0d3d392e",
   "metadata": {},
   "outputs": [],
   "source": [
    "regressors = [KNeighborsRegressor(n_neighbors=3), LinearRegression(), MLPRegressor()]"
   ]
  },
  {
   "cell_type": "code",
   "execution_count": 10,
   "id": "dd6f6a08",
   "metadata": {},
   "outputs": [],
   "source": [
    "def model_evaluation_regression(X_t, Y_t):\n",
    "    for regressor in regressors: \n",
    "        X_train, X_test, Y_train, Y_test = train_test_split(X_t, Y_t, test_size=0.2)\n",
    "        regressor.fit(X_train, Y_train)\n",
    "        y_predict = regressor.predict(X_test)\n",
    "        predClasses = np.argmax(y_predict, axis=1)\n",
    "        predTrue = np.argmax(Y_test, axis=1)\n",
    "        accuracyScore = accuracy_score(predTrue, predClasses)\n",
    "        confusionMatrix = confusion_matrix(predTrue, predClasses)\n",
    "        print('Classifier Name:', regressor)\n",
    "        print('Accuracy Score: ', accuracyScore * 100)\n",
    "        print('Confusion Matrix \\n', confusionMatrix)\n",
    "        print('')"
   ]
  },
  {
   "cell_type": "code",
   "execution_count": 11,
   "id": "e2dfcb71",
   "metadata": {},
   "outputs": [
    {
     "name": "stdout",
     "output_type": "stream",
     "text": [
      "Classifier Name: KNeighborsRegressor(n_neighbors=3)\n",
      "Accuracy Score:  74.4469870327994\n",
      "Confusion Matrix \n",
      " [[207   8  21   5  17   2  12   6  13]\n",
      " [  7 108  16   8  22   2   9   6   5]\n",
      " [  3   2 139   6  11   5  10   1  11]\n",
      " [  6   3   0  61  16   0   6   3   5]\n",
      " [  7   1   3   1 207   0   4   2   8]\n",
      " [  2   6   1   4   1  48   2   3   3]\n",
      " [  1   6   4   1   2   0  89   2   4]\n",
      " [  0   2   1   2   1   0   1  39   3]\n",
      " [  2   1   3   0   0   1   2   1  78]]\n",
      "\n",
      "Classifier Name: LinearRegression()\n",
      "Accuracy Score:  16.09458428680397\n",
      "Confusion Matrix \n",
      " [[ 12   0  15   0 269   0  18   0   5]\n",
      " [ 20   0   5   0 130   0  12   0  11]\n",
      " [ 11   0  16   0 152   0   0   0  17]\n",
      " [  3   0   7   0  63   0  10   0   4]\n",
      " [  7   0   2   0 175   0   7   0   1]\n",
      " [  5   0   0   0  36   0   8   0  10]\n",
      " [  6   0   3   0 102   0   5   0   6]\n",
      " [  3   0  10   0  33   0   8   0   1]\n",
      " [  3   0   5   0  80   0  12   0   3]]\n",
      "\n",
      "Classifier Name: MLPRegressor()\n",
      "Accuracy Score:  69.48893974065598\n",
      "Confusion Matrix \n",
      " [[159   3  25   6  38  14  21  18  11]\n",
      " [  2  70  21   9  20   3  15   8  14]\n",
      " [  2   0 138   9  25   1  19   9   9]\n",
      " [  1   1   0  48  14   3  10   2  11]\n",
      " [  0   0   0   0 198   3   6   2   9]\n",
      " [  0   0   2   0   2  66   4   4   6]\n",
      " [  2   0   1   0   2   0  87   1   6]\n",
      " [  0   0   0   0   1   0   0  46   2]\n",
      " [  0   0   1   0   1   0   0   1  99]]\n",
      "\n"
     ]
    }
   ],
   "source": [
    "model_evaluation_regression(X2, Y2)"
   ]
  },
  {
   "cell_type": "code",
   "execution_count": null,
   "id": "01473903",
   "metadata": {},
   "outputs": [],
   "source": []
  }
 ],
 "metadata": {
  "kernelspec": {
   "display_name": "Python 3",
   "language": "python",
   "name": "python3"
  },
  "language_info": {
   "codemirror_mode": {
    "name": "ipython",
    "version": 3
   },
   "file_extension": ".py",
   "mimetype": "text/x-python",
   "name": "python",
   "nbconvert_exporter": "python",
   "pygments_lexer": "ipython3",
   "version": "3.11.5"
  }
 },
 "nbformat": 4,
 "nbformat_minor": 5
}
